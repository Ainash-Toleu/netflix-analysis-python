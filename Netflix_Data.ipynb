{
 "cells": [
  {
   "cell_type": "code",
   "execution_count": null,
   "metadata": {},
   "outputs": [],
   "source": [
    "#Dependencies\n",
    "import pandas as pd"
   ]
  },
  {
   "cell_type": "markdown",
   "metadata": {},
   "source": [
    "# ETL. Clening data\n",
    "\n",
    "## Extract\n",
    "In this Project, I am working on Netflix data. Data contains my personal information that includes a copy of my viewing activity on Netflix."
   ]
  },
  {
   "cell_type": "code",
   "execution_count": null,
   "metadata": {},
   "outputs": [],
   "source": [
    "#Save path to data set in a variable\n",
    "netflix_file = \"Resources/netflix_sample.csv\""
   ]
  },
  {
   "cell_type": "code",
   "execution_count": null,
   "metadata": {},
   "outputs": [],
   "source": [
    "#use Pandas to read data\n",
    "netflix_df = pd.read_csv(netflix_file)\n",
    "netflix_df.head()"
   ]
  },
  {
   "cell_type": "markdown",
   "metadata": {},
   "source": [
    "## Transform\n",
    "In this part,we built dataframe keeping only the columns we were interested in."
   ]
  },
  {
   "cell_type": "code",
   "execution_count": null,
   "metadata": {},
   "outputs": [],
   "source": [
    "#ask for count of columns and rows\n",
    "netflix_df.shape"
   ]
  },
  {
   "cell_type": "code",
   "execution_count": null,
   "metadata": {},
   "outputs": [],
   "source": [
    "#ask for a list of columns\n",
    "netflix_df.columns"
   ]
  },
  {
   "cell_type": "code",
   "execution_count": null,
   "metadata": {},
   "outputs": [],
   "source": [
    "#ask for number of unique elements in columns\n",
    "#to check, just uncomment these part\n",
    "#netflix_df['<html><head><meta http-equiv=\"Content-Type\" content=\"text/html; charset=UTF-8\"></head><body>Profile Name'].nunique()\n",
    "#netflix_df['Start Time'].nunique()\n",
    "#netflix_df['Duration'].nunique()\n",
    "#netflix_df['Attributes'].nunique()\n",
    "#netflix_df['Title'].nunique()\n",
    "#netflix_df['Supplemental Video Type'].nunique()\n",
    "#netflix_df['Device Type'].nunique()\n",
    "#netflix_df['Bookmark'].nunique()\n",
    "#netflix_df['Latest Bookmark'].nunique()\n",
    "#netflix_df['Country'].nunique()"
   ]
  },
  {
   "cell_type": "code",
   "execution_count": null,
   "metadata": {},
   "outputs": [],
   "source": [
    "#ask for unique elements in 10 column\n",
    "netflix_df['Country'].unique()"
   ]
  },
  {
   "cell_type": "code",
   "execution_count": null,
   "metadata": {},
   "outputs": [],
   "source": [
    "#after finding suspicious element in 10th column, let's check last rows in data, do other columns has same html addings\n",
    "netflix_df.tail()"
   ]
  },
  {
   "cell_type": "code",
   "execution_count": null,
   "metadata": {},
   "outputs": [],
   "source": [
    "#leave the columns that we need \n",
    "netflix_data = netflix_df[['Start Time', 'Duration', 'Title']]\n",
    "netflix_data.head()"
   ]
  },
  {
   "cell_type": "code",
   "execution_count": null,
   "metadata": {},
   "outputs": [],
   "source": [
    "#ask for unique elements in 1 column\n",
    "netflix_data['Start Time'].unique()"
   ]
  },
  {
   "cell_type": "code",
   "execution_count": null,
   "metadata": {},
   "outputs": [],
   "source": [
    "#ask for unique elements in 2 column\n",
    "netflix_data['Duration'].unique()"
   ]
  },
  {
   "cell_type": "code",
   "execution_count": null,
   "metadata": {},
   "outputs": [],
   "source": [
    "#ask for unique elements in 3 column\n",
    "netflix_data['Title'].unique()"
   ]
  },
  {
   "cell_type": "code",
   "execution_count": null,
   "metadata": {},
   "outputs": [],
   "source": [
    "#ask for type of columns\n",
    "netflix_data.dtypes"
   ]
  },
  {
   "cell_type": "code",
   "execution_count": null,
   "metadata": {},
   "outputs": [],
   "source": [
    "#convert type of start time column to datetime\n",
    "netflix_data['Start Time'] = pd.to_datetime(netflix_data['Start Time'], utc = True)\n",
    "netflix_data.dtypes"
   ]
  },
  {
   "cell_type": "code",
   "execution_count": null,
   "metadata": {},
   "outputs": [],
   "source": [
    "# change the start time column into the dataframe's index\n",
    "netflix_data = netflix_data.set_index('Start Time')"
   ]
  },
  {
   "cell_type": "code",
   "execution_count": null,
   "metadata": {},
   "outputs": [],
   "source": [
    "# convert from UTC timezone to chicago\n",
    "netflix_data.index = netflix_data.index.tz_convert('America/Chicago')"
   ]
  },
  {
   "cell_type": "code",
   "execution_count": null,
   "metadata": {},
   "outputs": [],
   "source": [
    "# reset the index so that start time becomes a column again\n",
    "netflix_data = netflix_data.reset_index()\n",
    "netflix_data.head()"
   ]
  },
  {
   "cell_type": "code",
   "execution_count": null,
   "metadata": {},
   "outputs": [],
   "source": [
    "#convert duration column to timedelta\n",
    "netflix_data['Duration'] = pd.to_timedelta(netflix_data['Duration'])\n",
    "netflix_data.dtypes"
   ]
  },
  {
   "cell_type": "code",
   "execution_count": null,
   "metadata": {},
   "outputs": [],
   "source": [
    "#drop NaN if they exist\n",
    "netflix_data = netflix_data.dropna(how = 'any')\n",
    "netflix_data.shape"
   ]
  },
  {
   "cell_type": "code",
   "execution_count": null,
   "metadata": {},
   "outputs": [],
   "source": [
    "#drop all duplicates, if exist\n",
    "netflix_data.drop_duplicates(inplace = True)\n",
    "netflix_data.shape"
   ]
  },
  {
   "cell_type": "markdown",
   "metadata": {},
   "source": [
    "## Load\n",
    "In this part, we imported the user/pw/host/port info from a separate config file. We created connection to postgresql db that we have already created. Then loaded dataframe into database."
   ]
  },
  {
   "cell_type": "code",
   "execution_count": null,
   "metadata": {},
   "outputs": [],
   "source": []
  }
 ],
 "metadata": {
  "kernelspec": {
   "display_name": "Python 3",
   "language": "python",
   "name": "python3"
  },
  "language_info": {
   "codemirror_mode": {
    "name": "ipython",
    "version": 3
   },
   "file_extension": ".py",
   "mimetype": "text/x-python",
   "name": "python",
   "nbconvert_exporter": "python",
   "pygments_lexer": "ipython3",
   "version": "3.6.10"
  }
 },
 "nbformat": 4,
 "nbformat_minor": 4
}

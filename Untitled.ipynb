{
 "cells": [
  {
   "cell_type": "code",
   "execution_count": 1,
   "metadata": {},
   "outputs": [],
   "source": [
    "#Dependencies\n",
    "import pandas as pd"
   ]
  },
  {
   "cell_type": "code",
   "execution_count": 2,
   "metadata": {},
   "outputs": [],
   "source": [
    "#Save path to data set in a variable\n",
    "netflix_file = \"Resources/netflix_sample.csv\""
   ]
  },
  {
   "cell_type": "code",
   "execution_count": 3,
   "metadata": {},
   "outputs": [
    {
     "data": {
      "text/html": [
       "<div>\n",
       "<style scoped>\n",
       "    .dataframe tbody tr th:only-of-type {\n",
       "        vertical-align: middle;\n",
       "    }\n",
       "\n",
       "    .dataframe tbody tr th {\n",
       "        vertical-align: top;\n",
       "    }\n",
       "\n",
       "    .dataframe thead th {\n",
       "        text-align: right;\n",
       "    }\n",
       "</style>\n",
       "<table border=\"1\" class=\"dataframe\">\n",
       "  <thead>\n",
       "    <tr style=\"text-align: right;\">\n",
       "      <th></th>\n",
       "      <th>&lt;html&gt;&lt;head&gt;&lt;meta http-equiv=\"Content-Type\" content=\"text/html; charset=UTF-8\"&gt;&lt;/head&gt;&lt;body&gt;Profile Name</th>\n",
       "      <th>Start Time</th>\n",
       "      <th>Duration</th>\n",
       "      <th>Attributes</th>\n",
       "      <th>Title</th>\n",
       "      <th>Supplemental Video Type</th>\n",
       "      <th>Device Type</th>\n",
       "      <th>Bookmark</th>\n",
       "      <th>Latest Bookmark</th>\n",
       "      <th>Country</th>\n",
       "    </tr>\n",
       "  </thead>\n",
       "  <tbody>\n",
       "    <tr>\n",
       "      <th>0</th>\n",
       "      <td>Charlie</td>\n",
       "      <td>2013-03-20 5:17:53</td>\n",
       "      <td>0:00:05</td>\n",
       "      <td>NaN</td>\n",
       "      <td>Star Trek: Deep Space Nine: Season 5: Empok No...</td>\n",
       "      <td>NaN</td>\n",
       "      <td>Mac</td>\n",
       "      <td>0:00:05</td>\n",
       "      <td>Not latest view</td>\n",
       "      <td>US (United States)</td>\n",
       "    </tr>\n",
       "    <tr>\n",
       "      <th>1</th>\n",
       "      <td>Charlie</td>\n",
       "      <td>2013-03-20 4:27:45</td>\n",
       "      <td>0:44:31</td>\n",
       "      <td>NaN</td>\n",
       "      <td>Star Trek: Deep Space Nine: Season 5: Blaze of...</td>\n",
       "      <td>NaN</td>\n",
       "      <td>Mac</td>\n",
       "      <td>0:44:31</td>\n",
       "      <td>Not latest view</td>\n",
       "      <td>US (United States)</td>\n",
       "    </tr>\n",
       "    <tr>\n",
       "      <th>2</th>\n",
       "      <td>Charlie</td>\n",
       "      <td>2013-03-20 4:05:21</td>\n",
       "      <td>0:22:06</td>\n",
       "      <td>NaN</td>\n",
       "      <td>Star Trek: Deep Space Nine: Season 5: Children...</td>\n",
       "      <td>NaN</td>\n",
       "      <td>Mac</td>\n",
       "      <td>0:44:37</td>\n",
       "      <td>0:44:37</td>\n",
       "      <td>US (United States)</td>\n",
       "    </tr>\n",
       "    <tr>\n",
       "      <th>3</th>\n",
       "      <td>Charlie</td>\n",
       "      <td>2013-03-20 0:20:03</td>\n",
       "      <td>0:48:14</td>\n",
       "      <td>NaN</td>\n",
       "      <td>The Invisible War</td>\n",
       "      <td>NaN</td>\n",
       "      <td>Microsoft Xbox 360</td>\n",
       "      <td>0:53:18</td>\n",
       "      <td>0:53:18</td>\n",
       "      <td>US (United States)</td>\n",
       "    </tr>\n",
       "    <tr>\n",
       "      <th>4</th>\n",
       "      <td>Charlie</td>\n",
       "      <td>2013-03-20 0:10:31</td>\n",
       "      <td>0:04:51</td>\n",
       "      <td>NaN</td>\n",
       "      <td>The Invisible War</td>\n",
       "      <td>NaN</td>\n",
       "      <td>Mac</td>\n",
       "      <td>0:05:01</td>\n",
       "      <td>Not latest view</td>\n",
       "      <td>US (United States)</td>\n",
       "    </tr>\n",
       "  </tbody>\n",
       "</table>\n",
       "</div>"
      ],
      "text/plain": [
       "  <html><head><meta http-equiv=\"Content-Type\" content=\"text/html; charset=UTF-8\"></head><body>Profile Name  \\\n",
       "0                                            Charlie                                                         \n",
       "1                                            Charlie                                                         \n",
       "2                                            Charlie                                                         \n",
       "3                                            Charlie                                                         \n",
       "4                                            Charlie                                                         \n",
       "\n",
       "           Start Time Duration  Attributes  \\\n",
       "0  2013-03-20 5:17:53  0:00:05         NaN   \n",
       "1  2013-03-20 4:27:45  0:44:31         NaN   \n",
       "2  2013-03-20 4:05:21  0:22:06         NaN   \n",
       "3  2013-03-20 0:20:03  0:48:14         NaN   \n",
       "4  2013-03-20 0:10:31  0:04:51         NaN   \n",
       "\n",
       "                                               Title  Supplemental Video Type  \\\n",
       "0  Star Trek: Deep Space Nine: Season 5: Empok No...                      NaN   \n",
       "1  Star Trek: Deep Space Nine: Season 5: Blaze of...                      NaN   \n",
       "2  Star Trek: Deep Space Nine: Season 5: Children...                      NaN   \n",
       "3                                  The Invisible War                      NaN   \n",
       "4                                  The Invisible War                      NaN   \n",
       "\n",
       "          Device Type Bookmark  Latest Bookmark             Country  \n",
       "0                 Mac  0:00:05  Not latest view  US (United States)  \n",
       "1                 Mac  0:44:31  Not latest view  US (United States)  \n",
       "2                 Mac  0:44:37          0:44:37  US (United States)  \n",
       "3  Microsoft Xbox 360  0:53:18          0:53:18  US (United States)  \n",
       "4                 Mac  0:05:01  Not latest view  US (United States)  "
      ]
     },
     "execution_count": 3,
     "metadata": {},
     "output_type": "execute_result"
    }
   ],
   "source": [
    "#use Pandas to read data\n",
    "netflix_df = pd.read_csv(netflix_file)\n",
    "netflix_df.head()"
   ]
  },
  {
   "cell_type": "code",
   "execution_count": 4,
   "metadata": {},
   "outputs": [
    {
     "data": {
      "text/plain": [
       "(200, 10)"
      ]
     },
     "execution_count": 4,
     "metadata": {},
     "output_type": "execute_result"
    }
   ],
   "source": [
    "#ask for count of columns and rows\n",
    "netflix_df.shape"
   ]
  },
  {
   "cell_type": "code",
   "execution_count": 5,
   "metadata": {},
   "outputs": [
    {
     "data": {
      "text/plain": [
       "Index(['<html><head><meta http-equiv=\"Content-Type\" content=\"text/html; charset=UTF-8\"></head><body>Profile Name',\n",
       "       'Start Time', 'Duration', 'Attributes', 'Title',\n",
       "       'Supplemental Video Type', 'Device Type', 'Bookmark', 'Latest Bookmark',\n",
       "       'Country'],\n",
       "      dtype='object')"
      ]
     },
     "execution_count": 5,
     "metadata": {},
     "output_type": "execute_result"
    }
   ],
   "source": [
    "#ask for a list of columns\n",
    "netflix_df.columns"
   ]
  },
  {
   "cell_type": "code",
   "execution_count": 6,
   "metadata": {},
   "outputs": [
    {
     "data": {
      "text/plain": [
       "1"
      ]
     },
     "execution_count": 6,
     "metadata": {},
     "output_type": "execute_result"
    }
   ],
   "source": [
    "#ask for number of unique elements in 1 column\n",
    "netflix_df['<html><head><meta http-equiv=\"Content-Type\" content=\"text/html; charset=UTF-8\"></head><body>Profile Name'].nunique()"
   ]
  },
  {
   "cell_type": "code",
   "execution_count": 7,
   "metadata": {},
   "outputs": [
    {
     "data": {
      "text/plain": [
       "200"
      ]
     },
     "execution_count": 7,
     "metadata": {},
     "output_type": "execute_result"
    }
   ],
   "source": [
    "#ask for number of unique elements in 2 column\n",
    "netflix_df['Start Time'].nunique()"
   ]
  },
  {
   "cell_type": "code",
   "execution_count": 8,
   "metadata": {},
   "outputs": [
    {
     "data": {
      "text/plain": [
       "172"
      ]
     },
     "execution_count": 8,
     "metadata": {},
     "output_type": "execute_result"
    }
   ],
   "source": [
    "#ask for number of unique elements in 3 column\n",
    "netflix_df['Duration'].nunique()"
   ]
  },
  {
   "cell_type": "code",
   "execution_count": 9,
   "metadata": {},
   "outputs": [
    {
     "data": {
      "text/plain": [
       "0"
      ]
     },
     "execution_count": 9,
     "metadata": {},
     "output_type": "execute_result"
    }
   ],
   "source": [
    "#ask for number of unique elements in 4 column\n",
    "netflix_df['Attributes'].nunique()"
   ]
  },
  {
   "cell_type": "code",
   "execution_count": 10,
   "metadata": {},
   "outputs": [
    {
     "data": {
      "text/plain": [
       "146"
      ]
     },
     "execution_count": 10,
     "metadata": {},
     "output_type": "execute_result"
    }
   ],
   "source": [
    "#ask for number of unique elements in 5 column\n",
    "netflix_df['Title'].nunique()"
   ]
  },
  {
   "cell_type": "code",
   "execution_count": 11,
   "metadata": {},
   "outputs": [
    {
     "data": {
      "text/plain": [
       "0"
      ]
     },
     "execution_count": 11,
     "metadata": {},
     "output_type": "execute_result"
    }
   ],
   "source": [
    "#ask for number of unique elements in 6 column\n",
    "netflix_df['Supplemental Video Type'].nunique()"
   ]
  },
  {
   "cell_type": "code",
   "execution_count": 12,
   "metadata": {},
   "outputs": [
    {
     "data": {
      "text/plain": [
       "3"
      ]
     },
     "execution_count": 12,
     "metadata": {},
     "output_type": "execute_result"
    }
   ],
   "source": [
    "#ask for number of unique elements in 7 column\n",
    "netflix_df['Device Type'].nunique()"
   ]
  },
  {
   "cell_type": "code",
   "execution_count": 13,
   "metadata": {},
   "outputs": [
    {
     "data": {
      "text/plain": [
       "153"
      ]
     },
     "execution_count": 13,
     "metadata": {},
     "output_type": "execute_result"
    }
   ],
   "source": [
    "#ask for number of unique elements in 8 column\n",
    "netflix_df['Bookmark'].nunique()"
   ]
  },
  {
   "cell_type": "code",
   "execution_count": 14,
   "metadata": {},
   "outputs": [
    {
     "data": {
      "text/plain": [
       "21"
      ]
     },
     "execution_count": 14,
     "metadata": {},
     "output_type": "execute_result"
    }
   ],
   "source": [
    "#ask for number of unique elements in 9 column\n",
    "netflix_df['Latest Bookmark'].nunique()"
   ]
  },
  {
   "cell_type": "code",
   "execution_count": 15,
   "metadata": {},
   "outputs": [
    {
     "data": {
      "text/plain": [
       "2"
      ]
     },
     "execution_count": 15,
     "metadata": {},
     "output_type": "execute_result"
    }
   ],
   "source": [
    "#ask for number of unique elements in 10 column\n",
    "netflix_df['Country'].nunique()"
   ]
  },
  {
   "cell_type": "code",
   "execution_count": 16,
   "metadata": {},
   "outputs": [
    {
     "data": {
      "text/plain": [
       "array(['US (United States)', 'US (United States)</body></html>'],\n",
       "      dtype=object)"
      ]
     },
     "execution_count": 16,
     "metadata": {},
     "output_type": "execute_result"
    }
   ],
   "source": [
    "#ask for unique elements in 10 column\n",
    "netflix_df['Country'].unique()"
   ]
  },
  {
   "cell_type": "code",
   "execution_count": 17,
   "metadata": {},
   "outputs": [
    {
     "data": {
      "text/html": [
       "<div>\n",
       "<style scoped>\n",
       "    .dataframe tbody tr th:only-of-type {\n",
       "        vertical-align: middle;\n",
       "    }\n",
       "\n",
       "    .dataframe tbody tr th {\n",
       "        vertical-align: top;\n",
       "    }\n",
       "\n",
       "    .dataframe thead th {\n",
       "        text-align: right;\n",
       "    }\n",
       "</style>\n",
       "<table border=\"1\" class=\"dataframe\">\n",
       "  <thead>\n",
       "    <tr style=\"text-align: right;\">\n",
       "      <th></th>\n",
       "      <th>&lt;html&gt;&lt;head&gt;&lt;meta http-equiv=\"Content-Type\" content=\"text/html; charset=UTF-8\"&gt;&lt;/head&gt;&lt;body&gt;Profile Name</th>\n",
       "      <th>Start Time</th>\n",
       "      <th>Duration</th>\n",
       "      <th>Attributes</th>\n",
       "      <th>Title</th>\n",
       "      <th>Supplemental Video Type</th>\n",
       "      <th>Device Type</th>\n",
       "      <th>Bookmark</th>\n",
       "      <th>Latest Bookmark</th>\n",
       "      <th>Country</th>\n",
       "    </tr>\n",
       "  </thead>\n",
       "  <tbody>\n",
       "    <tr>\n",
       "      <th>195</th>\n",
       "      <td>Charlie</td>\n",
       "      <td>2013-03-02 0:45:12</td>\n",
       "      <td>0:05:18</td>\n",
       "      <td>NaN</td>\n",
       "      <td>Star Trek: Deep Space Nine: Season 4: Body Par...</td>\n",
       "      <td>NaN</td>\n",
       "      <td>Mac</td>\n",
       "      <td>0:27:16</td>\n",
       "      <td>Not latest view</td>\n",
       "      <td>US (United States)</td>\n",
       "    </tr>\n",
       "    <tr>\n",
       "      <th>196</th>\n",
       "      <td>Charlie</td>\n",
       "      <td>2013-03-01 23:46:16</td>\n",
       "      <td>0:58:12</td>\n",
       "      <td>NaN</td>\n",
       "      <td>Louis C.K.: Live at the Beacon Theater</td>\n",
       "      <td>NaN</td>\n",
       "      <td>Mac</td>\n",
       "      <td>1:01:37</td>\n",
       "      <td>Not latest view</td>\n",
       "      <td>US (United States)</td>\n",
       "    </tr>\n",
       "    <tr>\n",
       "      <th>197</th>\n",
       "      <td>Charlie</td>\n",
       "      <td>2013-03-01 23:21:19</td>\n",
       "      <td>0:21:59</td>\n",
       "      <td>NaN</td>\n",
       "      <td>Star Trek: Deep Space Nine: Season 4: Body Par...</td>\n",
       "      <td>NaN</td>\n",
       "      <td>Mac</td>\n",
       "      <td>0:22:01</td>\n",
       "      <td>Not latest view</td>\n",
       "      <td>US (United States)</td>\n",
       "    </tr>\n",
       "    <tr>\n",
       "      <th>198</th>\n",
       "      <td>Charlie</td>\n",
       "      <td>2013-03-01 22:36:48</td>\n",
       "      <td>0:44:26</td>\n",
       "      <td>NaN</td>\n",
       "      <td>Star Trek: Deep Space Nine: Season 4: The Quic...</td>\n",
       "      <td>NaN</td>\n",
       "      <td>Mac</td>\n",
       "      <td>0:44:28</td>\n",
       "      <td>0:44:28</td>\n",
       "      <td>US (United States)</td>\n",
       "    </tr>\n",
       "    <tr>\n",
       "      <th>199</th>\n",
       "      <td>Charlie</td>\n",
       "      <td>2013-03-01 20:47:09</td>\n",
       "      <td>0:43:48</td>\n",
       "      <td>NaN</td>\n",
       "      <td>Star Trek: Deep Space Nine: Season 4: To the D...</td>\n",
       "      <td>NaN</td>\n",
       "      <td>Mac</td>\n",
       "      <td>0:43:48</td>\n",
       "      <td>0:43:48</td>\n",
       "      <td>US (United States)&lt;/body&gt;&lt;/html&gt;</td>\n",
       "    </tr>\n",
       "  </tbody>\n",
       "</table>\n",
       "</div>"
      ],
      "text/plain": [
       "    <html><head><meta http-equiv=\"Content-Type\" content=\"text/html; charset=UTF-8\"></head><body>Profile Name  \\\n",
       "195                                            Charlie                                                         \n",
       "196                                            Charlie                                                         \n",
       "197                                            Charlie                                                         \n",
       "198                                            Charlie                                                         \n",
       "199                                            Charlie                                                         \n",
       "\n",
       "              Start Time Duration  Attributes  \\\n",
       "195   2013-03-02 0:45:12  0:05:18         NaN   \n",
       "196  2013-03-01 23:46:16  0:58:12         NaN   \n",
       "197  2013-03-01 23:21:19  0:21:59         NaN   \n",
       "198  2013-03-01 22:36:48  0:44:26         NaN   \n",
       "199  2013-03-01 20:47:09  0:43:48         NaN   \n",
       "\n",
       "                                                 Title  \\\n",
       "195  Star Trek: Deep Space Nine: Season 4: Body Par...   \n",
       "196             Louis C.K.: Live at the Beacon Theater   \n",
       "197  Star Trek: Deep Space Nine: Season 4: Body Par...   \n",
       "198  Star Trek: Deep Space Nine: Season 4: The Quic...   \n",
       "199  Star Trek: Deep Space Nine: Season 4: To the D...   \n",
       "\n",
       "     Supplemental Video Type Device Type Bookmark  Latest Bookmark  \\\n",
       "195                      NaN         Mac  0:27:16  Not latest view   \n",
       "196                      NaN         Mac  1:01:37  Not latest view   \n",
       "197                      NaN         Mac  0:22:01  Not latest view   \n",
       "198                      NaN         Mac  0:44:28          0:44:28   \n",
       "199                      NaN         Mac  0:43:48          0:43:48   \n",
       "\n",
       "                              Country  \n",
       "195                US (United States)  \n",
       "196                US (United States)  \n",
       "197                US (United States)  \n",
       "198                US (United States)  \n",
       "199  US (United States)</body></html>  "
      ]
     },
     "execution_count": 17,
     "metadata": {},
     "output_type": "execute_result"
    }
   ],
   "source": [
    "#after finding suspicious element in 10th column, let's check last rows in data\n",
    "netflix_df.tail()"
   ]
  },
  {
   "cell_type": "code",
   "execution_count": 19,
   "metadata": {},
   "outputs": [
    {
     "data": {
      "text/html": [
       "<div>\n",
       "<style scoped>\n",
       "    .dataframe tbody tr th:only-of-type {\n",
       "        vertical-align: middle;\n",
       "    }\n",
       "\n",
       "    .dataframe tbody tr th {\n",
       "        vertical-align: top;\n",
       "    }\n",
       "\n",
       "    .dataframe thead th {\n",
       "        text-align: right;\n",
       "    }\n",
       "</style>\n",
       "<table border=\"1\" class=\"dataframe\">\n",
       "  <thead>\n",
       "    <tr style=\"text-align: right;\">\n",
       "      <th></th>\n",
       "      <th>Start Time</th>\n",
       "      <th>Duration</th>\n",
       "      <th>Title</th>\n",
       "    </tr>\n",
       "  </thead>\n",
       "  <tbody>\n",
       "    <tr>\n",
       "      <th>0</th>\n",
       "      <td>2013-03-20 5:17:53</td>\n",
       "      <td>0:00:05</td>\n",
       "      <td>Star Trek: Deep Space Nine: Season 5: Empok No...</td>\n",
       "    </tr>\n",
       "    <tr>\n",
       "      <th>1</th>\n",
       "      <td>2013-03-20 4:27:45</td>\n",
       "      <td>0:44:31</td>\n",
       "      <td>Star Trek: Deep Space Nine: Season 5: Blaze of...</td>\n",
       "    </tr>\n",
       "    <tr>\n",
       "      <th>2</th>\n",
       "      <td>2013-03-20 4:05:21</td>\n",
       "      <td>0:22:06</td>\n",
       "      <td>Star Trek: Deep Space Nine: Season 5: Children...</td>\n",
       "    </tr>\n",
       "    <tr>\n",
       "      <th>3</th>\n",
       "      <td>2013-03-20 0:20:03</td>\n",
       "      <td>0:48:14</td>\n",
       "      <td>The Invisible War</td>\n",
       "    </tr>\n",
       "    <tr>\n",
       "      <th>4</th>\n",
       "      <td>2013-03-20 0:10:31</td>\n",
       "      <td>0:04:51</td>\n",
       "      <td>The Invisible War</td>\n",
       "    </tr>\n",
       "  </tbody>\n",
       "</table>\n",
       "</div>"
      ],
      "text/plain": [
       "           Start Time Duration  \\\n",
       "0  2013-03-20 5:17:53  0:00:05   \n",
       "1  2013-03-20 4:27:45  0:44:31   \n",
       "2  2013-03-20 4:05:21  0:22:06   \n",
       "3  2013-03-20 0:20:03  0:48:14   \n",
       "4  2013-03-20 0:10:31  0:04:51   \n",
       "\n",
       "                                               Title  \n",
       "0  Star Trek: Deep Space Nine: Season 5: Empok No...  \n",
       "1  Star Trek: Deep Space Nine: Season 5: Blaze of...  \n",
       "2  Star Trek: Deep Space Nine: Season 5: Children...  \n",
       "3                                  The Invisible War  \n",
       "4                                  The Invisible War  "
      ]
     },
     "execution_count": 19,
     "metadata": {},
     "output_type": "execute_result"
    }
   ],
   "source": [
    "#leave the columns that we need \n",
    "netflix_data = netflix_df[['Start Time', 'Duration', 'Title']]\n",
    "netflix_data.head()"
   ]
  },
  {
   "cell_type": "code",
   "execution_count": 20,
   "metadata": {},
   "outputs": [
    {
     "data": {
      "text/plain": [
       "array(['2013-03-20 5:17:53', '2013-03-20 4:27:45', '2013-03-20 4:05:21',\n",
       "       '2013-03-20 0:20:03', '2013-03-20 0:10:31', '2013-03-19 22:34:08',\n",
       "       '2013-03-19 5:07:46', '2013-03-18 23:57:53', '2013-03-18 23:26:15',\n",
       "       '2013-03-18 23:25:36', '2013-03-18 23:04:22',\n",
       "       '2013-03-18 22:42:50', '2013-03-18 22:21:52',\n",
       "       '2013-03-18 22:20:53', '2013-03-18 20:29:22',\n",
       "       '2013-03-18 20:07:57', '2013-03-18 19:46:38',\n",
       "       '2013-03-18 19:24:10', '2013-03-18 18:20:16',\n",
       "       '2013-03-18 17:54:26', '2013-03-18 17:36:27', '2013-03-18 5:35:10',\n",
       "       '2013-03-18 5:00:02', '2013-03-18 4:27:20', '2013-03-17 5:40:18',\n",
       "       '2013-03-17 5:10:14', '2013-03-17 4:48:28', '2013-03-17 4:31:32',\n",
       "       '2013-03-16 20:14:27', '2013-03-16 19:52:58',\n",
       "       '2013-03-16 19:31:01', '2013-03-16 19:11:50',\n",
       "       '2013-03-16 18:29:58', '2013-03-16 6:03:09', '2013-03-16 5:40:55',\n",
       "       '2013-03-16 4:59:11', '2013-03-16 4:51:24', '2013-03-16 1:32:56',\n",
       "       '2013-03-16 1:07:28', '2013-03-16 0:40:36', '2013-03-16 0:20:53',\n",
       "       '2013-03-16 0:20:30', '2013-03-15 23:50:06', '2013-03-15 23:40:03',\n",
       "       '2013-03-15 21:11:53', '2013-03-15 19:40:38',\n",
       "       '2013-03-15 18:54:23', '2013-03-15 17:37:51', '2013-03-15 6:03:33',\n",
       "       '2013-03-15 5:35:50', '2013-03-15 5:01:11', '2013-03-15 4:40:15',\n",
       "       '2013-03-15 4:12:24', '2013-03-15 3:41:08', '2013-03-15 3:19:43',\n",
       "       '2013-03-15 3:19:23', '2013-03-15 0:07:27', '2013-03-14 23:36:27',\n",
       "       '2013-03-14 23:35:42', '2013-03-14 23:34:05',\n",
       "       '2013-03-14 23:12:03', '2013-03-14 5:33:24', '2013-03-14 5:12:38',\n",
       "       '2013-03-14 4:58:19', '2013-03-14 2:38:47', '2013-03-14 2:30:33',\n",
       "       '2013-03-14 0:41:10', '2013-03-13 23:32:23', '2013-03-13 22:56:08',\n",
       "       '2013-03-13 22:34:52', '2013-03-13 21:55:05',\n",
       "       '2013-03-13 19:48:49', '2013-03-13 17:30:04',\n",
       "       '2013-03-13 17:05:56', '2013-03-13 5:55:54', '2013-03-13 5:26:23',\n",
       "       '2013-03-13 4:34:16', '2013-03-13 4:13:19', '2013-03-13 3:52:19',\n",
       "       '2013-03-13 3:46:53', '2013-03-13 2:31:04', '2013-03-13 1:15:57',\n",
       "       '2013-03-12 23:55:02', '2013-03-12 23:44:15',\n",
       "       '2013-03-12 21:18:15', '2013-03-12 20:58:59',\n",
       "       '2013-03-12 16:17:28', '2013-03-12 15:55:04',\n",
       "       '2013-03-12 14:52:07', '2013-03-12 14:51:11',\n",
       "       '2013-03-12 14:28:26', '2013-03-12 5:53:10', '2013-03-12 5:32:28',\n",
       "       '2013-03-12 5:11:52', '2013-03-12 4:11:10', '2013-03-12 3:50:09',\n",
       "       '2013-03-12 3:28:56', '2013-03-12 3:08:08', '2013-03-12 2:56:52',\n",
       "       '2013-03-12 1:39:33', '2013-03-12 1:19:32', '2013-03-12 1:18:33',\n",
       "       '2013-03-12 1:00:34', '2013-03-12 0:24:08', '2013-03-11 23:36:20',\n",
       "       '2013-03-11 23:14:51', '2013-03-11 22:42:56',\n",
       "       '2013-03-11 21:23:25', '2013-03-11 18:44:14',\n",
       "       '2013-03-11 18:36:43', '2013-03-11 17:12:57',\n",
       "       '2013-03-11 16:19:38', '2013-03-11 6:30:51', '2013-03-11 6:09:15',\n",
       "       '2013-03-11 5:50:07', '2013-03-11 2:30:42', '2013-03-11 1:08:11',\n",
       "       '2013-03-11 0:46:51', '2013-03-11 0:26:12', '2013-03-11 0:04:12',\n",
       "       '2013-03-10 23:44:24', '2013-03-10 22:30:20',\n",
       "       '2013-03-10 22:08:30', '2013-03-10 21:46:45',\n",
       "       '2013-03-10 21:25:01', '2013-03-10 21:02:07',\n",
       "       '2013-03-10 20:42:49', '2013-03-10 20:14:39',\n",
       "       '2013-03-10 19:53:39', '2013-03-10 3:11:14', '2013-03-10 2:49:25',\n",
       "       '2013-03-10 2:13:43', '2013-03-10 1:52:07', '2013-03-10 1:25:05',\n",
       "       '2013-03-10 1:03:19', '2013-03-09 23:25:22', '2013-03-09 23:03:25',\n",
       "       '2013-03-09 22:38:53', '2013-03-09 21:41:24',\n",
       "       '2013-03-09 21:19:36', '2013-03-09 21:01:10',\n",
       "       '2013-03-09 20:48:16', '2013-03-09 17:34:13',\n",
       "       '2013-03-09 17:21:42', '2013-03-09 8:25:52', '2013-03-09 8:04:16',\n",
       "       '2013-03-09 7:20:39', '2013-03-09 7:17:55', '2013-03-09 6:44:33',\n",
       "       '2013-03-09 6:27:51', '2013-03-09 2:58:32', '2013-03-09 2:36:40',\n",
       "       '2013-03-09 2:35:43', '2013-03-09 0:52:42', '2013-03-09 0:29:16',\n",
       "       '2013-03-08 23:45:38', '2013-03-08 23:23:26', '2013-03-08 4:32:39',\n",
       "       '2013-03-08 4:31:28', '2013-03-07 6:11:24', '2013-03-07 5:26:30',\n",
       "       '2013-03-07 4:55:16', '2013-03-07 1:43:40', '2013-03-07 0:59:10',\n",
       "       '2013-03-07 0:00:51', '2013-03-06 23:01:23', '2013-03-06 19:34:57',\n",
       "       '2013-03-06 19:34:29', '2013-03-06 19:33:36', '2013-03-06 7:12:40',\n",
       "       '2013-03-06 6:24:50', '2013-03-06 5:38:11', '2013-03-06 4:53:22',\n",
       "       '2013-03-05 23:02:57', '2013-03-05 6:45:52', '2013-03-05 4:41:26',\n",
       "       '2013-03-05 3:55:14', '2013-03-05 3:10:40', '2013-03-05 2:43:31',\n",
       "       '2013-03-05 2:31:29', '2013-03-04 6:55:49', '2013-03-04 5:55:29',\n",
       "       '2013-03-04 5:16:30', '2013-03-04 0:31:51', '2013-03-03 23:56:14',\n",
       "       '2013-03-03 22:52:58', '2013-03-03 22:08:05',\n",
       "       '2013-03-03 22:07:45', '2013-03-03 6:26:06', '2013-03-03 5:41:10',\n",
       "       '2013-03-03 5:07:50', '2013-03-03 1:28:37', '2013-03-03 0:44:30',\n",
       "       '2013-03-02 23:54:28', '2013-03-02 23:33:55', '2013-03-02 0:45:12',\n",
       "       '2013-03-01 23:46:16', '2013-03-01 23:21:19',\n",
       "       '2013-03-01 22:36:48', '2013-03-01 20:47:09'], dtype=object)"
      ]
     },
     "execution_count": 20,
     "metadata": {},
     "output_type": "execute_result"
    }
   ],
   "source": [
    "#ask for unique elements in 1 column\n",
    "netflix_df['Start Time'].unique()"
   ]
  },
  {
   "cell_type": "code",
   "execution_count": 21,
   "metadata": {},
   "outputs": [
    {
     "data": {
      "text/plain": [
       "array(['0:00:05', '0:44:31', '0:22:06', '0:48:14', '0:04:51', '0:22:29',\n",
       "       '0:33:10', '0:11:36', '0:31:32', '0:00:02', '0:21:07', '0:21:30',\n",
       "       '0:20:55', '0:00:55', '0:20:15', '0:21:21', '0:21:14', '0:21:34',\n",
       "       '0:21:12', '0:21:15', '0:15:50', '0:05:20', '0:21:02', '0:32:37',\n",
       "       '0:08:52', '0:20:18', '0:21:41', '0:15:51', '0:04:59', '0:21:54',\n",
       "       '0:19:08', '0:02:06', '0:20:42', '0:21:10', '0:41:32', '0:07:40',\n",
       "       '0:01:02', '0:05:10', '0:19:30', '0:00:18', '0:27:43', '0:10:01',\n",
       "       '0:11:48', '0:19:52', '0:41:34', '0:20:45', '0:21:11', '0:27:39',\n",
       "       '0:28:35', '0:20:51', '0:18:54', '0:19:07', '0:21:20', '0:00:14',\n",
       "       '0:02:03', '0:29:32', '0:00:03', '0:01:14', '0:20:06', '0:14:14',\n",
       "       '0:20:56', '0:08:10', '0:06:38', '0:28:24', '0:21:06', '0:20:44',\n",
       "       '0:13:01', '0:15:02', '0:11:05', '0:02:00', '0:21:08', '0:29:28',\n",
       "       '0:29:55', '0:05:24', '0:05:37', '0:00:09', '0:09:37', '0:10:42',\n",
       "       '0:10:31', '0:10:11', '0:11:01', '0:21:40', '0:27:52', '0:00:52',\n",
       "       '0:20:47', '0:20:08', '0:20:39', '0:20:32', '0:20:54', '0:20:43',\n",
       "       '0:11:11', '0:13:05', '0:19:56', '0:00:54', '0:09:47', '0:20:52',\n",
       "       '0:20:36', '0:21:26', '0:21:45', '0:00:15', '0:07:28', '0:13:55',\n",
       "       '0:15:37', '0:05:57', '0:21:31', '0:18:16', '0:02:43', '0:21:16',\n",
       "       '0:20:35', '0:21:56', '0:18:20', '0:03:20', '0:21:44', '0:21:32',\n",
       "       '0:21:33', '0:22:48', '0:18:47', '0:23:52', '0:15:56', '0:05:39',\n",
       "       '0:21:43', '0:35:37', '0:21:29', '0:21:46', '0:18:23', '0:12:51',\n",
       "       '0:11:59', '0:12:27', '0:09:24', '0:02:40', '0:10:54', '0:10:44',\n",
       "       '0:21:48', '0:19:55', '0:00:16', '0:12:58', '0:44:50', '0:31:11',\n",
       "       '0:13:24', '0:44:26', '0:44:45', '0:50:01', '0:42:51', '0:00:24',\n",
       "       '0:00:11', '0:00:10', '0:44:11', '0:44:34', '0:44:44', '0:23:29',\n",
       "       '0:29:22', '0:15:10', '0:44:49', '0:43:29', '0:21:03', '0:11:45',\n",
       "       '0:01:19', '0:37:02', '0:07:27', '0:35:32', '0:09:08', '0:44:15',\n",
       "       '0:44:51', '0:33:07', '0:11:30', '0:43:56', '0:44:19', '0:17:17',\n",
       "       '0:05:18', '0:58:12', '0:21:59', '0:43:48'], dtype=object)"
      ]
     },
     "execution_count": 21,
     "metadata": {},
     "output_type": "execute_result"
    }
   ],
   "source": [
    "#ask for unique elements in 2 column\n",
    "netflix_df['Duration'].unique()"
   ]
  },
  {
   "cell_type": "code",
   "execution_count": 22,
   "metadata": {},
   "outputs": [
    {
     "data": {
      "text/plain": [
       "array(['Star Trek: Deep Space Nine: Season 5: Empok Nor (Episode 24)',\n",
       "       'Star Trek: Deep Space Nine: Season 5: Blaze of Glory (Episode 23)',\n",
       "       'Star Trek: Deep Space Nine: Season 5: Children of Time (Episode 22)',\n",
       "       'The Invisible War',\n",
       "       'Star Trek: Deep Space Nine: Season 5: Soldiers of the Empire (Episode 21)',\n",
       "       'Star Trek: Deep Space Nine: Season 5: Ferengi Love Songs (Episode 20)',\n",
       "       'The Office (U.S.): Season 5: The Duel (Episode 12)',\n",
       "       'The Office (U.S.): Season 5: Moroccan Christmas (Episode 11)',\n",
       "       'The Office (U.S.): Season 5: The Surplus (Episode 10)',\n",
       "       'The Office (U.S.): Season 5: Frame Toby (Episode 9)',\n",
       "       'The Office (U.S.): Season 5: Business Trip (Episode 8)',\n",
       "       'The Office (U.S.): Season 5: Customer Survey (Episode 7)',\n",
       "       'The Office (U.S.): Season 5: Employee Transfer (Episode 6)',\n",
       "       'The Office (U.S.): Season 5: Crime Aid (Episode 5)',\n",
       "       'The Office (U.S.): Season 5: Baby Shower (Episode 4)',\n",
       "       'The Office (U.S.): Season 5: Business Ethics (Episode 3)',\n",
       "       'The Office (U.S.): Season 5: Weight Loss: Part 2 (Episode 2)',\n",
       "       'The Office (U.S.): Season 5: Weight Loss: Part 1 (Episode 1)',\n",
       "       'The Office (U.S.): Season 4: Goodbye, Toby (Episode 14)',\n",
       "       'The Office (U.S.): Season 4: Job Fair (Episode 13)',\n",
       "       'The Office (U.S.): Season 4: Did I Stutter (Episode 12)',\n",
       "       'The Office (U.S.): Season 4: Night Out (Episode 11)',\n",
       "       'The Office (U.S.): Season 4: The Chair Model (Episode 10)',\n",
       "       'The Office (U.S.): Season 4: Dinner Party (Episode 9)',\n",
       "       'The Office (U.S.): Season 4: The Deposition (Episode 8)',\n",
       "       'The Office (U.S.): Season 4: Survivor Man (Episode 7)',\n",
       "       'The Office (U.S.): Season 4: Local Ad (Episode 5)',\n",
       "       'The Office (U.S.): Season 4: Money (Episode 4)',\n",
       "       'The Office (U.S.): Season 4: Launch Party (Episode 3)',\n",
       "       'Archer: Season 3: The Man from Jupiter (Episode 4)',\n",
       "       'Archer: Season 3: Heart of Archness, Part 3 (Episode 3)',\n",
       "       'Archer: Season 3: Heart of Archness, Part 2 (Episode 2)',\n",
       "       'The Office (U.S.): Season 4: Dunder Mifflin Infinity (Episode 2)',\n",
       "       'The Office (U.S.): Season 4: Fun Run (Episode 1)',\n",
       "       'The Office (U.S.): Season 3: The Job (Episode 23)',\n",
       "       'The Office (U.S.): Season 3: Beach Games (Episode 22)',\n",
       "       \"The Office (U.S.): Season 3: Women's Appreciation (Episode 21)\",\n",
       "       'The Office (U.S.): Season 3: Product Recall (Episode 20)',\n",
       "       'The Office (U.S.): Season 3: Safety Training (Episode 19)',\n",
       "       'Archer: Season 3: Heart of Archness, Part 1 (Episode 1)',\n",
       "       'Archer: Season 2: El Secuestro (Episode 10)',\n",
       "       'The Office (U.S.): Season 3: The Negotiation (Episode 18)',\n",
       "       'The Office (U.S.): Season 3: Cocktails (Episode 17)',\n",
       "       'The Office (U.S.): Season 3: Business School (Episode 16)',\n",
       "       \"The Office (U.S.): Season 3: Phyllis's Wedding (Episode 15)\",\n",
       "       'The Office (U.S.): Season 3: Ben Franklin (Episode 14)',\n",
       "       'Archer: Season 2: Placebo Effect (Episode 9)',\n",
       "       'Archer: Season 2: Stage Two (Episode 8)',\n",
       "       'The Office (U.S.): Season 3: The Return (Episode 13)',\n",
       "       'The Office (U.S.): Season 3: Traveling Salesmen (Episode 12)',\n",
       "       'The Office (U.S.): Season 3: Back from Vacation (Episode 11)',\n",
       "       'The Office (U.S.): Season 3: A Benihana Christmas (Episode 10)',\n",
       "       'The Office (U.S.): Season 3: The Convict (Episode 9)',\n",
       "       'The Office (U.S.): Season 3: The Merger (Episode 8)',\n",
       "       'The Office (U.S.): Season 3: Branch Closing (Episode 7)',\n",
       "       'The Office (U.S.): Season 3: Diwali (Episode 6)',\n",
       "       'The Office (U.S.): Season 3: Initiation (Episode 5)',\n",
       "       'The Office (U.S.): Season 3: Grief Counseling (Episode 4)',\n",
       "       'The Office (U.S.): Season 3: The Coup (Episode 3)',\n",
       "       'The Office (U.S.): Season 3: The Convention (Episode 2)',\n",
       "       'The Office (U.S.): Season 3: Gay Witch Hunt (Episode 1)',\n",
       "       'The Office (U.S.): Season 2: Casino Night (Episode 22)',\n",
       "       'The Office (U.S.): Season 2: Conflict Resolution (Episode 21)',\n",
       "       'The Office (U.S.): Season 2: Drug Testing (Episode 20)',\n",
       "       \"The Office (U.S.): Season 2: Michael's Birthday (Episode 19)\",\n",
       "       'The Office (U.S.): Season 2: Take Your Daughter to Work Day (Episode 18)',\n",
       "       \"The Office (U.S.): Season 2: Dwight's Speech (Episode 17)\",\n",
       "       \"The Office (U.S.): Season 2: Valentine's Day (Episode 16)\",\n",
       "       'The Office (U.S.): Season 2: Boys and Girls (Episode 15)',\n",
       "       'The Office (U.S.): Season 2: The Carpet (Episode 14)',\n",
       "       'The Office (U.S.): Season 2: The Secret (Episode 13)',\n",
       "       'Archer: Season 2: Movie Star (Episode 7)',\n",
       "       'Archer: Season 2: Tragical History (Episode 6)',\n",
       "       'The Office (U.S.): Season 2: The Injury (Episode 12)',\n",
       "       'The Office (U.S.): Season 2: Booze Cruise (Episode 11)',\n",
       "       'The Office (U.S.): Season 2: Christmas Party (Episode 10)',\n",
       "       'The Office (U.S.): Season 2: Email Surveillance (Episode 9)',\n",
       "       'The Office (U.S.): Season 2: Performance Review (Episode 8)',\n",
       "       'The Office (U.S.): Season 2: The Client (Episode 7)',\n",
       "       'The Office (U.S.): Season 2: The Fight (Episode 6)',\n",
       "       'The Office (U.S.): Season 2: Halloween (Episode 5)',\n",
       "       'The Office (U.S.): Season 2: The Fire (Episode 4)',\n",
       "       'The Office (U.S.): Season 2: Office Olympics (Episode 3)',\n",
       "       'The Office (U.S.): Season 2: Sexual Harassment (Episode 2)',\n",
       "       'The Office (U.S.): Season 2: The Dundies (Episode 1)',\n",
       "       'The Office (U.S.): Season 1: Hot Girl (Episode 6)',\n",
       "       'The Office (U.S.): Season 1: Basketball (Episode 5)',\n",
       "       'The Office (U.S.): Season 1: The Alliance (Episode 4)',\n",
       "       'The Office (U.S.): Season 1: Health Care (Episode 3)',\n",
       "       'The Office (U.S.): Season 1: Diversity Day (Episode 2)',\n",
       "       'The Office (U.S.): Season 1: Pilot (Episode 1)',\n",
       "       'The Office (U.S.): Season 7: Search Committee: Part 2 (Episode 26)',\n",
       "       'The Office (U.S.): Season 7: Search Committee: Part 1 (Episode 25)',\n",
       "       'The Office (U.S.): Season 7: Dwight K. Schrute, (Acting) Manager (Episode 24)',\n",
       "       'The Office (U.S.): Season 7: The Inner Circle (Episode 23)',\n",
       "       'The Office (U.S.): Season 7: Goodbye, Michael (Episode 22)',\n",
       "       \"The Office (U.S.): Season 7: Michael's Last Dundies (Episode 21)\",\n",
       "       'The Office (U.S.): Season 7: Training Day (Episode 20)',\n",
       "       'The Office (U.S.): Season 7: Garage Sale (Episode 19)',\n",
       "       'The Office (U.S.): Season 7: Threat Level Midnight (Episode 17)',\n",
       "       'The Office (U.S.): Season 7: PDA (Episode 16)',\n",
       "       'The Office (U.S.): Season 7: The Search (Episode 15)',\n",
       "       'The Office (U.S.): Season 7: The Seminar (Episode 14)',\n",
       "       'The Office (U.S.): Season 7: Ultimatum (Episode 13)',\n",
       "       'The Office (U.S.): Season 7: Classy Christmas: Part 2 (Episode 12)',\n",
       "       'The Office (U.S.): Season 7: Classy Christmas: Part 1 (Episode 11)',\n",
       "       'The Office (U.S.): Season 7: China (Episode 10)',\n",
       "       'The Office (U.S.): Season 7: WUPHF.com (Episode 9)',\n",
       "       'The Office (U.S.): Season 7: Viewing Party (Episode 8)',\n",
       "       'The Office (U.S.): Season 7: Christening (Episode 7)',\n",
       "       'The Office (U.S.): Season 7: Costume Contest (Episode 6)',\n",
       "       'The Office (U.S.): Season 7: The Sting (Episode 5)',\n",
       "       'The Office (U.S.): Season 7: Sex Ed (Episode 4)',\n",
       "       \"The Office (U.S.): Season 7: Andy's Play (Episode 3)\",\n",
       "       'The Office (U.S.): Season 7: Counseling (Episode 2)',\n",
       "       'The Office (U.S.): Season 7: Nepotism (Episode 1)',\n",
       "       'Archer: Season 2: The Double Deuce (Episode 5)',\n",
       "       '30 for 30: The Two Escobars',\n",
       "       'Star Trek: Deep Space Nine: Season 5: Ties of Blood and Water (Episode 19)',\n",
       "       'Star Trek: Deep Space Nine: Season 5: Business as Usual (Episode 18)',\n",
       "       'Star Trek: Deep Space Nine: Season 5: A Simple Investigation (Episode 17)',\n",
       "       'Star Trek: Deep Space Nine: Season 5: Doctor Bashir, I Presume? (Episode 16)',\n",
       "       'Buffy the Vampire Slayer: Season 6: Once More, with Feeling (Episode 7)',\n",
       "       \"Star Trek: Deep Space Nine: Season 5: By Inferno's Light (Episode 15)\",\n",
       "       'Star Trek: Deep Space Nine: Season 1: Emissary: Parts 1 &amp; 2 (Episode 1)',\n",
       "       \"Star Trek: Deep Space Nine: Season 5: In Purgatory's Shadow (Episode 14)\",\n",
       "       'Star Trek: Deep Space Nine: Season 5: For the Uniform (Episode 13)',\n",
       "       'Star Trek: Deep Space Nine: Season 5: The Begotten (Episode 12)',\n",
       "       'Star Trek: Deep Space Nine: Season 5: The Darkness and the Light (Episode 11)',\n",
       "       'Star Trek: Deep Space Nine: Season 5: Rapture (Episode 10)',\n",
       "       'Star Trek: Deep Space Nine: Season 5: The Ascent (Episode 9)',\n",
       "       'Archer: Season 2: Pipeline Fever (Episode 4)',\n",
       "       'Archer: Season 2: Blood Test (Episode 3)',\n",
       "       'Star Trek: Deep Space Nine: Season 5: Things Past (Episode 8)',\n",
       "       'Star Trek: Deep Space Nine: Season 5: Let He Who Is Without Sin.. (Episode 7)',\n",
       "       'Star Trek: Deep Space Nine: Season 5: Trials and Tribble-ations (Episode 6)',\n",
       "       'Star Trek: Deep Space Nine: Season 5: The Assignment (Episode 5)',\n",
       "       'Star Trek: Deep Space Nine: Season 5: ...Nor the Battle to the Strong (Episode 4)',\n",
       "       \"Star Trek: Deep Space Nine: Season 5: Looking for Par'Mach in All the Wrong Places (Episode 3)\",\n",
       "       'Star Trek: Deep Space Nine: Season 5: The Ship (Episode 2)',\n",
       "       'Star Trek: Deep Space Nine: Season 5: Apocalypse Rising (Episode 1)',\n",
       "       'Star Trek: Deep Space Nine: Season 4: Broken Link (Episode 25)',\n",
       "       'Star Trek: Deep Space Nine: Season 4: Body Parts (Episode 24)',\n",
       "       'Louis C.K.: Live at the Beacon Theater',\n",
       "       'Star Trek: Deep Space Nine: Season 4: The Quickening (Episode 23)',\n",
       "       'Star Trek: Deep Space Nine: Season 4: To the Death (Episode 22)'],\n",
       "      dtype=object)"
      ]
     },
     "execution_count": 22,
     "metadata": {},
     "output_type": "execute_result"
    }
   ],
   "source": [
    "#ask for unique elements in 3 column\n",
    "netflix_df['Title'].unique()"
   ]
  },
  {
   "cell_type": "code",
   "execution_count": null,
   "metadata": {},
   "outputs": [],
   "source": []
  }
 ],
 "metadata": {
  "kernelspec": {
   "display_name": "Python 3",
   "language": "python",
   "name": "python3"
  },
  "language_info": {
   "codemirror_mode": {
    "name": "ipython",
    "version": 3
   },
   "file_extension": ".py",
   "mimetype": "text/x-python",
   "name": "python",
   "nbconvert_exporter": "python",
   "pygments_lexer": "ipython3",
   "version": "3.6.10"
  }
 },
 "nbformat": 4,
 "nbformat_minor": 4
}
